{
 "cells": [
  {
   "cell_type": "code",
   "execution_count": 1,
   "metadata": {},
   "outputs": [],
   "source": [
    "# Fast sorting in NumPy\n",
    "\n",
    "import numpy as np"
   ]
  },
  {
   "cell_type": "code",
   "execution_count": 3,
   "metadata": {},
   "outputs": [
    {
     "data": {
      "text/plain": [
       "array([1, 2, 3, 4, 5])"
      ]
     },
     "execution_count": 3,
     "metadata": {},
     "output_type": "execute_result"
    }
   ],
   "source": [
    "x = np.array([2, 1, 4, 3, 5])\n",
    "np.sort(x)"
   ]
  },
  {
   "cell_type": "code",
   "execution_count": 4,
   "metadata": {},
   "outputs": [
    {
     "name": "stdout",
     "output_type": "stream",
     "text": [
      "[1 2 3 4 5]\n"
     ]
    }
   ],
   "source": [
    "x.sort()  # sort in place\n",
    "print(x)"
   ]
  },
  {
   "cell_type": "code",
   "execution_count": 5,
   "metadata": {},
   "outputs": [
    {
     "name": "stdout",
     "output_type": "stream",
     "text": [
      "[1 0 3 2 4]\n"
     ]
    }
   ],
   "source": [
    "# argsort returns the indices of the sorted elements\n",
    "x = np.array([2, 1, 4, 3, 5])\n",
    "i = np.argsort(x)\n",
    "print(i)"
   ]
  },
  {
   "cell_type": "code",
   "execution_count": 7,
   "metadata": {},
   "outputs": [
    {
     "data": {
      "text/plain": [
       "array([1, 2, 3, 4, 5])"
      ]
     },
     "execution_count": 7,
     "metadata": {},
     "output_type": "execute_result"
    }
   ],
   "source": [
    "x[i]  # can construct the sorted array with fancy indexing"
   ]
  },
  {
   "cell_type": "code",
   "execution_count": 8,
   "metadata": {},
   "outputs": [
    {
     "name": "stdout",
     "output_type": "stream",
     "text": [
      "[[6 3 7 4 6 9]\n",
      " [2 6 7 4 3 7]\n",
      " [7 2 5 4 1 7]\n",
      " [5 1 4 0 9 5]]\n"
     ]
    }
   ],
   "source": [
    "# sort along rows or columns\n",
    "\n",
    "rand = np.random.RandomState(42)\n",
    "X = rand.randint(0, 10, (4, 6))\n",
    "print(X)"
   ]
  },
  {
   "cell_type": "code",
   "execution_count": 9,
   "metadata": {},
   "outputs": [
    {
     "data": {
      "text/plain": [
       "array([[2, 1, 4, 0, 1, 5],\n",
       "       [5, 2, 5, 4, 3, 7],\n",
       "       [6, 3, 7, 4, 6, 7],\n",
       "       [7, 6, 7, 4, 9, 9]])"
      ]
     },
     "execution_count": 9,
     "metadata": {},
     "output_type": "execute_result"
    }
   ],
   "source": [
    "# sort each column of X\n",
    "np.sort(X, axis=0)"
   ]
  },
  {
   "cell_type": "code",
   "execution_count": 10,
   "metadata": {},
   "outputs": [
    {
     "data": {
      "text/plain": [
       "array([[3, 4, 6, 6, 7, 9],\n",
       "       [2, 3, 4, 6, 7, 7],\n",
       "       [1, 2, 4, 5, 7, 7],\n",
       "       [0, 1, 4, 5, 5, 9]])"
      ]
     },
     "execution_count": 10,
     "metadata": {},
     "output_type": "execute_result"
    }
   ],
   "source": [
    "np.sort(X, axis=1)"
   ]
  },
  {
   "cell_type": "code",
   "execution_count": 12,
   "metadata": {},
   "outputs": [],
   "source": [
    "## Partial Sorting - Partitioning"
   ]
  },
  {
   "cell_type": "code",
   "execution_count": 13,
   "metadata": {},
   "outputs": [
    {
     "data": {
      "text/plain": [
       "array([2, 1, 3, 4, 6, 5, 7])"
      ]
     },
     "execution_count": 13,
     "metadata": {},
     "output_type": "execute_result"
    }
   ],
   "source": [
    "# partition returns the smallest K values to the left of the partition, and the rest to the right in arbitrary order\n",
    "\n",
    "x = np.array([7, 2, 3, 1, 6, 5, 4])\n",
    "np.partition(x, 3)"
   ]
  },
  {
   "cell_type": "code",
   "execution_count": 14,
   "metadata": {},
   "outputs": [
    {
     "data": {
      "text/plain": [
       "array([[3, 4, 6, 7, 6, 9],\n",
       "       [2, 3, 4, 7, 6, 7],\n",
       "       [1, 2, 4, 5, 7, 7],\n",
       "       [0, 1, 4, 5, 9, 5]])"
      ]
     },
     "execution_count": 14,
     "metadata": {},
     "output_type": "execute_result"
    }
   ],
   "source": [
    "# arbitrary axis paritioning\n",
    "\n",
    "np.partition(X, 2, axis=1)"
   ]
  },
  {
   "cell_type": "code",
   "execution_count": 15,
   "metadata": {},
   "outputs": [],
   "source": [
    "## Example: K-nearest Neighbors"
   ]
  },
  {
   "cell_type": "code",
   "execution_count": 20,
   "metadata": {},
   "outputs": [],
   "source": [
    "X = rand.rand(10, 2)"
   ]
  },
  {
   "cell_type": "code",
   "execution_count": 21,
   "metadata": {},
   "outputs": [
    {
     "data": {
      "text/plain": [
       "<matplotlib.collections.PathCollection at 0x7f193ddbfcf8>"
      ]
     },
     "execution_count": 21,
     "metadata": {},
     "output_type": "execute_result"
    },
    {
     "data": {
      "image/png": "[encoded data removed]",
      "text/plain": [
       "<Figure size 432x288 with 1 Axes>"
      ]
     },
     "metadata": {},
     "output_type": "display_data"
    }
   ],
   "source": [
    "import matplotlib.pyplot as plt\n",
    "import seaborn; seaborn.set()\n",
    "\n",
    "plt.scatter(X[:, 0], X[:, 1], s=100)"
   ]
  },
  {
   "cell_type": "code",
   "execution_count": 22,
   "metadata": {},
   "outputs": [],
   "source": [
    "# compute distance bewteen each pair of points\n",
    "\n",
    "dist_sq = np.sum((X[:, np.newaxis, :] - X[np.newaxis, :, :]) **2, axis=-1)"
   ]
  },
  {
   "cell_type": "code",
   "execution_count": 27,
   "metadata": {},
   "outputs": [
    {
     "name": "stdout",
     "output_type": "stream",
     "text": [
      "(10, 1, 2)\n",
      "[[[0.23089383 0.24102547]]\n",
      "\n",
      " [[0.68326352 0.60999666]]\n",
      "\n",
      " [[0.83319491 0.17336465]]\n",
      "\n",
      " [[0.39106061 0.18223609]]\n",
      "\n",
      " [[0.75536141 0.42515587]]\n",
      "\n",
      " [[0.20794166 0.56770033]]\n",
      "\n",
      " [[0.03131329 0.84228477]]\n",
      "\n",
      " [[0.44975413 0.39515024]]\n",
      "\n",
      " [[0.92665887 0.727272  ]]\n",
      "\n",
      " [[0.32654077 0.57044397]]]\n",
      "(1, 10, 2)\n",
      "[[[0.23089383 0.24102547]\n",
      "  [0.68326352 0.60999666]\n",
      "  [0.83319491 0.17336465]\n",
      "  [0.39106061 0.18223609]\n",
      "  [0.75536141 0.42515587]\n",
      "  [0.20794166 0.56770033]\n",
      "  [0.03131329 0.84228477]\n",
      "  [0.44975413 0.39515024]\n",
      "  [0.92665887 0.727272  ]\n",
      "  [0.32654077 0.57044397]]]\n"
     ]
    }
   ],
   "source": [
    "print(X[:, np.newaxis, :].shape)\n",
    "print(X[:, np.newaxis, :])\n",
    "\n",
    "print(X[np.newaxis, :, :].shape)\n",
    "print(X[np.newaxis, :, :])"
   ]
  },
  {
   "cell_type": "code",
   "execution_count": 34,
   "metadata": {},
   "outputs": [
    {
     "name": "stdout",
     "output_type": "stream",
     "text": [
      "[[[ 0.          0.        ]\n",
      "  [-0.45236969 -0.36897119]\n",
      "  [-0.60230109  0.06766081]\n",
      "  [-0.16016678  0.05878938]\n",
      "  [-0.52446758 -0.18413041]\n",
      "  [ 0.02295216 -0.32667486]\n",
      "  [ 0.19958053 -0.60125931]\n",
      "  [-0.21886031 -0.15412477]\n",
      "  [-0.69576504 -0.48624653]\n",
      "  [-0.09564694 -0.32941851]]\n",
      "\n",
      " [[ 0.45236969  0.36897119]\n",
      "  [ 0.          0.        ]\n",
      "  [-0.14993139  0.436632  ]\n",
      "  [ 0.29220291  0.42776057]\n",
      "  [-0.07209789  0.18484078]\n",
      "  [ 0.47532186  0.04229633]\n",
      "  [ 0.65195023 -0.23228812]\n",
      "  [ 0.23350939  0.21484642]\n",
      "  [-0.24339535 -0.11727534]\n",
      "  [ 0.35672275  0.03955268]]\n",
      "\n",
      " [[ 0.60230109 -0.06766081]\n",
      "  [ 0.14993139 -0.436632  ]\n",
      "  [ 0.          0.        ]\n",
      "  [ 0.4421343  -0.00887143]\n",
      "  [ 0.0778335  -0.25179122]\n",
      "  [ 0.62525325 -0.39433567]\n",
      "  [ 0.80188162 -0.66892012]\n",
      "  [ 0.38344078 -0.22178558]\n",
      "  [-0.09346395 -0.55390734]\n",
      "  [ 0.50665414 -0.39707932]]\n",
      "\n",
      " [[ 0.16016678 -0.05878938]\n",
      "  [-0.29220291 -0.42776057]\n",
      "  [-0.4421343   0.00887143]\n",
      "  [ 0.          0.        ]\n",
      "  [-0.3643008  -0.24291979]\n",
      "  [ 0.18311894 -0.38546424]\n",
      "  [ 0.35974732 -0.66004869]\n",
      "  [-0.05869353 -0.21291415]\n",
      "  [-0.53559826 -0.54503591]\n",
      "  [ 0.06451984 -0.38820789]]\n",
      "\n",
      " [[ 0.52446758  0.18413041]\n",
      "  [ 0.07209789 -0.18484078]\n",
      "  [-0.0778335   0.25179122]\n",
      "  [ 0.3643008   0.24291979]\n",
      "  [ 0.          0.        ]\n",
      "  [ 0.54741975 -0.14254445]\n",
      "  [ 0.72404812 -0.4171289 ]\n",
      "  [ 0.30560728  0.03000564]\n",
      "  [-0.17129746 -0.30211612]\n",
      "  [ 0.42882064 -0.1452881 ]]\n",
      "\n",
      " [[-0.02295216  0.32667486]\n",
      "  [-0.47532186 -0.04229633]\n",
      "  [-0.62525325  0.39433567]\n",
      "  [-0.18311894  0.38546424]\n",
      "  [-0.54741975  0.14254445]\n",
      "  [ 0.          0.        ]\n",
      "  [ 0.17662837 -0.27458445]\n",
      "  [-0.24181247  0.17255009]\n",
      "  [-0.7187172  -0.15957167]\n",
      "  [-0.11859911 -0.00274365]]\n",
      "\n",
      " [[-0.19958053  0.60125931]\n",
      "  [-0.65195023  0.23228812]\n",
      "  [-0.80188162  0.66892012]\n",
      "  [-0.35974732  0.66004869]\n",
      "  [-0.72404812  0.4171289 ]\n",
      "  [-0.17662837  0.27458445]\n",
      "  [ 0.          0.        ]\n",
      "  [-0.41844084  0.44713454]\n",
      "  [-0.89534557  0.11501278]\n",
      "  [-0.29522748  0.2718408 ]]\n",
      "\n",
      " [[ 0.21886031  0.15412477]\n",
      "  [-0.23350939 -0.21484642]\n",
      "  [-0.38344078  0.22178558]\n",
      "  [ 0.05869353  0.21291415]\n",
      "  [-0.30560728 -0.03000564]\n",
      "  [ 0.24181247 -0.17255009]\n",
      "  [ 0.41844084 -0.44713454]\n",
      "  [ 0.          0.        ]\n",
      "  [-0.47690473 -0.33212176]\n",
      "  [ 0.12321336 -0.17529374]]\n",
      "\n",
      " [[ 0.69576504  0.48624653]\n",
      "  [ 0.24339535  0.11727534]\n",
      "  [ 0.09346395  0.55390734]\n",
      "  [ 0.53559826  0.54503591]\n",
      "  [ 0.17129746  0.30211612]\n",
      "  [ 0.7187172   0.15957167]\n",
      "  [ 0.89534557 -0.11501278]\n",
      "  [ 0.47690473  0.33212176]\n",
      "  [ 0.          0.        ]\n",
      "  [ 0.6001181   0.15682802]]\n",
      "\n",
      " [[ 0.09564694  0.32941851]\n",
      "  [-0.35672275 -0.03955268]\n",
      "  [-0.50665414  0.39707932]\n",
      "  [-0.06451984  0.38820789]\n",
      "  [-0.42882064  0.1452881 ]\n",
      "  [ 0.11859911  0.00274365]\n",
      "  [ 0.29522748 -0.2718408 ]\n",
      "  [-0.12321336  0.17529374]\n",
      "  [-0.6001181  -0.15682802]\n",
      "  [ 0.          0.        ]]]\n"
     ]
    }
   ],
   "source": [
    "# wtf\n",
    "\n",
    "differences = X[:, np.newaxis, :] - X[np.newaxis, :, :]\n",
    "differences.shape\n",
    "print(differences)"
   ]
  },
  {
   "cell_type": "code",
   "execution_count": 28,
   "metadata": {},
   "outputs": [
    {
     "data": {
      "text/plain": [
       "(10, 10, 2)"
      ]
     },
     "execution_count": 28,
     "metadata": {},
     "output_type": "execute_result"
    }
   ],
   "source": [
    "# square the coordinate differences\n",
    "sq_differences = differences ** 2\n",
    "sq_differences.shape"
   ]
  },
  {
   "cell_type": "code",
   "execution_count": 29,
   "metadata": {},
   "outputs": [
    {
     "data": {
      "text/plain": [
       "(10, 10)"
      ]
     },
     "execution_count": 29,
     "metadata": {},
     "output_type": "execute_result"
    }
   ],
   "source": [
    "# sum coordinate differences to get squared distance\n",
    "\n",
    "dist_sq = sq_differences.sum(-1)\n",
    "dist_sq.shape"
   ]
  },
  {
   "cell_type": "code",
   "execution_count": 30,
   "metadata": {},
   "outputs": [
    {
     "data": {
      "text/plain": [
       "array([0., 0., 0., 0., 0., 0., 0., 0., 0., 0.])"
      ]
     },
     "execution_count": 30,
     "metadata": {},
     "output_type": "execute_result"
    }
   ],
   "source": [
    "# diagonal (distance from each point to itself) should be 0\n",
    "dist_sq.diagonal()"
   ]
  },
  {
   "cell_type": "code",
   "execution_count": 31,
   "metadata": {},
   "outputs": [
    {
     "name": "stdout",
     "output_type": "stream",
     "text": [
      "[[0 3 7 5 9 4 1 2 6 8]\n",
      " [1 4 8 7 9 2 5 3 0 6]\n",
      " [2 4 3 7 1 8 0 9 5 6]\n",
      " [3 0 7 9 5 4 2 1 6 8]\n",
      " [4 1 2 7 8 3 9 0 5 6]\n",
      " [5 9 7 6 0 3 1 4 8 2]\n",
      " [6 5 9 7 0 1 3 4 8 2]\n",
      " [7 9 3 0 5 4 1 2 8 6]\n",
      " [8 1 4 2 7 9 5 3 0 6]\n",
      " [9 5 7 0 1 3 6 4 8 2]]\n"
     ]
    }
   ],
   "source": [
    "# argsort to sort along each row, left-most columns will give indices of nearest neighbor\n",
    "\n",
    "nearest = np.argsort(dist_sq, axis=1)\n",
    "print(nearest)"
   ]
  },
  {
   "cell_type": "code",
   "execution_count": 32,
   "metadata": {},
   "outputs": [],
   "source": [
    "K = 2\n",
    "nearest_partition = np.argpartition(dist_sq, K+1, axis=1)"
   ]
  },
  {
   "cell_type": "code",
   "execution_count": 33,
   "metadata": {},
   "outputs": [
    {
     "data": {
      "image/png": "[encoded data removed]",
      "text/plain": [
       "<Figure size 432x288 with 1 Axes>"
      ]
     },
     "metadata": {},
     "output_type": "display_data"
    }
   ],
   "source": [
    "plt.scatter(X[:, 0], X[:, 1], s=100)\n",
    "\n",
    "# draw lines from each point to its 2 nearest neighbors\n",
    "K = 2\n",
    "\n",
    "for i in range(X.shape[0]):\n",
    "    for j in nearest_partition[i, :K+1]:\n",
    "        # plot a line from X[i] to X[j]\n",
    "        # use some zip magic to make it happen\n",
    "        plt.plot(*zip(X[j], X[i]), color='black')"
   ]
  },
  {
   "cell_type": "code",
   "execution_count": null,
   "metadata": {},
   "outputs": [],
   "source": []
  }
 ],
 "metadata": {
  "kernelspec": {
   "display_name": "Python 3",
   "language": "python",
   "name": "python3"
  },
  "language_info": {
   "codemirror_mode": {
    "name": "ipython",
    "version": 3
   },
   "file_extension": ".py",
   "mimetype": "text/x-python",
   "name": "python",
   "nbconvert_exporter": "python",
   "pygments_lexer": "ipython3",
   "version": "3.6.3"
  }
 },
 "nbformat": 4,
 "nbformat_minor": 2
}
