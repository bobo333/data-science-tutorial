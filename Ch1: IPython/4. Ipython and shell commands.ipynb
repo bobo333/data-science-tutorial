{
 "cells": [
  {
   "cell_type": "code",
   "execution_count": 1,
   "metadata": {},
   "outputs": [
    {
     "name": "stdout",
     "output_type": "stream",
     "text": [
      "1. accessing help and documentation.ipynb\r\n",
      "2. Magic commands.ipynb\r\n",
      "3. Input and Output history.ipynb\r\n",
      "4. Ipython and shell commands.ipynb\r\n"
     ]
    }
   ],
   "source": [
    "!ls"
   ]
  },
  {
   "cell_type": "code",
   "execution_count": 8,
   "metadata": {},
   "outputs": [],
   "source": [
    "# save output from shell commands\n",
    "contents = !ls"
   ]
  },
  {
   "cell_type": "code",
   "execution_count": 3,
   "metadata": {},
   "outputs": [
    {
     "name": "stdout",
     "output_type": "stream",
     "text": [
      "['1. accessing help and documentation.ipynb', '2. Magic commands.ipynb', '3. Input and Output history.ipynb', '4. Ipython and shell commands.ipynb']\n"
     ]
    }
   ],
   "source": [
    "print(contents)"
   ]
  },
  {
   "cell_type": "code",
   "execution_count": 6,
   "metadata": {},
   "outputs": [],
   "source": [
    "directory = !pwd"
   ]
  },
  {
   "cell_type": "code",
   "execution_count": 7,
   "metadata": {},
   "outputs": [
    {
     "data": {
      "text/plain": [
       "IPython.utils.text.SList"
      ]
     },
     "execution_count": 7,
     "metadata": {},
     "output_type": "execute_result"
    }
   ],
   "source": [
    "type(directory)"
   ]
  },
  {
   "cell_type": "code",
   "execution_count": 9,
   "metadata": {},
   "outputs": [
    {
     "name": "stdout",
     "output_type": "stream",
     "text": [
      "hi there!\r\n"
     ]
    }
   ],
   "source": [
    "# pass info to shell commands\n",
    "\n",
    "message = 'hi there!'\n",
    "\n",
    "!echo {message}"
   ]
  },
  {
   "cell_type": "code",
   "execution_count": 12,
   "metadata": {},
   "outputs": [
    {
     "name": "stdout",
     "output_type": "stream",
     "text": [
      "['/Users/StevenCipriano/data-science/Data Science Handbook/Ch1: IPython']\n",
      "['/Users/StevenCipriano/data-science/Data Science Handbook/Ch1: IPython']\n"
     ]
    }
   ],
   "source": [
    "# commands are run in temporary shell, so things like cd don't work as expected\n",
    "\n",
    "directory = !pwd\n",
    "print(directory)\n",
    "\n",
    "!cd ..\n",
    "\n",
    "directory = !pwd\n",
    "print(directory)"
   ]
  },
  {
   "cell_type": "code",
   "execution_count": 15,
   "metadata": {},
   "outputs": [
    {
     "name": "stdout",
     "output_type": "stream",
     "text": [
      "['/Users/StevenCipriano/data-science/Data Science Handbook/Ch1: IPython']\n",
      "/Users/StevenCipriano/data-science/Data Science Handbook\n",
      "['/Users/StevenCipriano/data-science/Data Science Handbook']\n",
      "/Users/StevenCipriano/data-science/Data Science Handbook/Ch1: IPython\n",
      "['/Users/StevenCipriano/data-science/Data Science Handbook/Ch1: IPython']\n"
     ]
    }
   ],
   "source": [
    "# must use magic commands\n",
    "\n",
    "directory = !pwd\n",
    "print(directory)\n",
    "\n",
    "%cd ..\n",
    "\n",
    "directory = !pwd\n",
    "print(directory)\n",
    "\n",
    "%cd '/Users/StevenCipriano/data-science/Data Science Handbook/Ch1: IPython'\n",
    "\n",
    "directory = !pwd\n",
    "print(directory)"
   ]
  },
  {
   "cell_type": "code",
   "execution_count": null,
   "metadata": {},
   "outputs": [],
   "source": []
  }
 ],
 "metadata": {
  "kernelspec": {
   "display_name": "Python 3",
   "language": "python",
   "name": "python3"
  },
  "language_info": {
   "codemirror_mode": {
    "name": "ipython",
    "version": 3
   },
   "file_extension": ".py",
   "mimetype": "text/x-python",
   "name": "python",
   "nbconvert_exporter": "python",
   "pygments_lexer": "ipython3",
   "version": "3.6.4"
  }
 },
 "nbformat": 4,
 "nbformat_minor": 2
}
